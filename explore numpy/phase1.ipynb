{
 "cells": [
  {
   "cell_type": "markdown",
   "metadata": {},
   "source": [
    "## Numpy array and basics"
   ]
  },
  {
   "cell_type": "code",
   "execution_count": 1,
   "metadata": {},
   "outputs": [],
   "source": [
    "import numpy as np"
   ]
  },
  {
   "cell_type": "markdown",
   "metadata": {},
   "source": [
    "creating arrays using list"
   ]
  },
  {
   "cell_type": "code",
   "execution_count": 2,
   "metadata": {},
   "outputs": [
    {
     "name": "stdout",
     "output_type": "stream",
     "text": [
      "[1 2 3 4 5]\n"
     ]
    }
   ],
   "source": [
    "arr_1d = np.array([1,2,3,4,5])\n",
    "print(arr_1d)"
   ]
  },
  {
   "cell_type": "code",
   "execution_count": 6,
   "metadata": {},
   "outputs": [
    {
     "name": "stdout",
     "output_type": "stream",
     "text": [
      "[[1 2 3]\n",
      " [4 5 6]]\n"
     ]
    }
   ],
   "source": [
    "arr_2d = np.array([[1,2,3],[4,5,6]])\n",
    "print(arr_2d)"
   ]
  },
  {
   "cell_type": "markdown",
   "metadata": {},
   "source": [
    "## diff between list and numpy"
   ]
  },
  {
   "cell_type": "code",
   "execution_count": 9,
   "metadata": {},
   "outputs": [
    {
     "name": "stdout",
     "output_type": "stream",
     "text": [
      "python list multiplication  [1, 2, 3, 1, 2, 3]\n"
     ]
    }
   ],
   "source": [
    "py_list = [1,2,3]\n",
    "print(\"python list multiplication \", py_list*2)"
   ]
  },
  {
   "cell_type": "code",
   "execution_count": null,
   "metadata": {},
   "outputs": [
    {
     "name": "stdout",
     "output_type": "stream",
     "text": [
      "python array multiplication  [2 4 6]\n"
     ]
    }
   ],
   "source": [
    "py_arr_1 =np.array([1,2,3]) #element wise multiplication\n",
    "print(\"python array multiplication \", py_arr_1*2)"
   ]
  },
  {
   "cell_type": "code",
   "execution_count": null,
   "metadata": {},
   "outputs": [
    {
     "name": "stdout",
     "output_type": "stream",
     "text": [
      "\n",
      " List operation time:  0.05851268768310547\n",
      "\n",
      " Numpy operation time:  0.005520343780517578\n"
     ]
    }
   ],
   "source": [
    "import time\n",
    "start = time.time()\n",
    "py_list_1 = [i*2 for i in range(1000000)]\n",
    "print(\"\\n List operation time: \", time.time() - start)\n",
    "\n",
    "#arange is just like the range ()- it consists of start,stop and step indexes\n",
    "start = time.time()\n",
    "np_arr = np.arange(1000000) * 2\n",
    "print(\"\\n Numpy operation time: \", time.time() - start)"
   ]
  },
  {
   "cell_type": "markdown",
   "metadata": {},
   "source": [
    "## creating array from scratch"
   ]
  },
  {
   "cell_type": "code",
   "execution_count": null,
   "metadata": {},
   "outputs": [
    {
     "name": "stdout",
     "output_type": "stream",
     "text": [
      "zeros array: \n",
      " [[0. 0. 0. 0.]\n",
      " [0. 0. 0. 0.]\n",
      " [0. 0. 0. 0.]]\n",
      "ones array: \n",
      " [[1. 1. 1.]\n",
      " [1. 1. 1.]]\n",
      "full array/square matrix: \n",
      " [[4 4]\n",
      " [4 4]]\n",
      "random array/matrix: \n",
      " [[0.47635227 0.03067852 0.69586675]\n",
      " [0.36604576 0.07503941 0.46603042]]\n",
      "sequence array: \n",
      " [0 1 2 3 4 5 6 7 8 9]\n"
     ]
    }
   ],
   "source": [
    "zeros = np.zeros((3,4))\n",
    "print(\"zeros array: \\n\",zeros)\n",
    "\n",
    "ones = np.ones((2,3))\n",
    "print(\"ones array: \\n\",ones)\n",
    "\n",
    "#square matrix with a constant value\n",
    "full = np.full((2,2),4)\n",
    "print(\"full array/square matrix: \\n\",full)\n",
    "\n",
    "# random matrix\n",
    "random = np.random.random((2,3))\n",
    "print(\"random array/matrix: \\n\",random)\n",
    "\n",
    "#sequence\n",
    "sequence = np.arange(0,10,2)\n",
    "print(\"sequence array: \\n\",sequence)\n"
   ]
  },
  {
   "cell_type": "markdown",
   "metadata": {},
   "source": [
    "## vector,matrix and tensor"
   ]
  },
  {
   "cell_type": "code",
   "execution_count": null,
   "metadata": {},
   "outputs": [
    {
     "name": "stdout",
     "output_type": "stream",
     "text": [
      "vector:  [1 2 3]\n",
      "matrix: \n",
      " [[1 2 3]\n",
      " [4 5 6]]\n",
      "tensor: \n",
      " [[[1 2]\n",
      "  [3 4]]\n",
      "\n",
      " [[5 6]\n",
      "  [7 8]]]\n"
     ]
    }
   ],
   "source": [
    "# 1d arrays are vectors\n",
    "vector = np.array([1,2,3])\n",
    "print(\"vector: \",vector)\n",
    "\n",
    "#2d arrays are known as matrix\n",
    "matrix = np.array([[1,2,3],[4,5,6]])\n",
    "print(\"matrix: \\n\",matrix)\n",
    "\n",
    "#apart from 2d arrays everything else is a tensor\n",
    "tensor = np.array([[[1,2],[3,4]],[[5,6],[7,8]]])\n",
    "print(\"tensor: \\n\",tensor)\n"
   ]
  },
  {
   "cell_type": "markdown",
   "metadata": {},
   "source": [
    "## array properties"
   ]
  },
  {
   "cell_type": "code",
   "execution_count": null,
   "metadata": {},
   "outputs": [
    {
     "name": "stdout",
     "output_type": "stream",
     "text": [
      "shape  (2, 3)\n",
      "dimension  2\n",
      "size  6\n",
      "dtype  int64\n"
     ]
    }
   ],
   "source": [
    "arr = np.array([[1,2,3],[4,5,6]])\n",
    "print(\"shape \", arr.shape) # no of rows and columns \n",
    "print(\"dimension \",arr.ndim) # no of dimensions 1d,2d, etc\n",
    "print(\"size \",arr.size) # total number of elements in the array\n",
    "print(\"dtype \",arr.dtype) #data type of elements"
   ]
  },
  {
   "cell_type": "markdown",
   "metadata": {},
   "source": [
    "## array reshaping"
   ]
  },
  {
   "cell_type": "code",
   "execution_count": 36,
   "metadata": {},
   "outputs": [
    {
     "name": "stdout",
     "output_type": "stream",
     "text": [
      "original array: \n",
      " [ 0  1  2  3  4  5  6  7  8  9 10 11]\n",
      "reshaped array: \n",
      " [[ 0  1  2  3]\n",
      " [ 4  5  6  7]\n",
      " [ 8  9 10 11]]\n",
      "flattened array: \n",
      " [ 0  1  2  3  4  5  6  7  8  9 10 11]\n",
      "raveled array: \n",
      " [ 0  1  2  3  4  5  6  7  8  9 10 11]\n",
      "transposed array: \n",
      " [[ 0  4  8]\n",
      " [ 1  5  9]\n",
      " [ 2  6 10]\n",
      " [ 3  7 11]]\n"
     ]
    }
   ],
   "source": [
    "arr = np.arange(12) #by default start is zero and step is one\n",
    "print(\"original array: \\n\",arr)\n",
    "\n",
    "# converting the original array into an array of (3,4) i.e. 3 rows and 4 columns\n",
    "reshaped = arr.reshape((3,4)) \n",
    "print(\"reshaped array: \\n\",reshaped)\n",
    "\n",
    "# flattens the reshaped array into a single row and flattens return copy\n",
    "flattened = reshaped.flatten()\n",
    "print(\"flattened array: \\n\", flattened)\n",
    "\n",
    "# ravel(returns view(original),instead of copy)\n",
    "raveled = reshaped.ravel()\n",
    "print(\"raveled array: \\n\",raveled)\n",
    "\n",
    "# transpose\n",
    "transpose = reshaped.T\n",
    "print(\"transposed array: \\n\",transpose)"
   ]
  },
  {
   "cell_type": "code",
   "execution_count": null,
   "metadata": {},
   "outputs": [],
   "source": []
  }
 ],
 "metadata": {
  "kernelspec": {
   "display_name": "venv",
   "language": "python",
   "name": "python3"
  },
  "language_info": {
   "codemirror_mode": {
    "name": "ipython",
    "version": 3
   },
   "file_extension": ".py",
   "mimetype": "text/x-python",
   "name": "python",
   "nbconvert_exporter": "python",
   "pygments_lexer": "ipython3",
   "version": "3.11.4"
  }
 },
 "nbformat": 4,
 "nbformat_minor": 2
}
